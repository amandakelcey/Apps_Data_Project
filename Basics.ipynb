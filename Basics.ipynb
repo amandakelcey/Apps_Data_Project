{
 "cells": [
  {
   "cell_type": "markdown",
   "metadata": {},
   "source": [
    "# Increasing Ad Revnue by Analyzing App Popularity"
   ]
  },
  {
   "cell_type": "markdown",
   "metadata": {},
   "source": [
    "Free apps collect revenue via advertising. When an in app ad is viewed or clicked on we get paid. The more clicks and views the more we earn from our advertisers. \n",
    "\n",
    "In this anaysis we will be breaking down the popularity of specific apps. With this information we will be able to more efficently direct our resources to increase ad revenue. "
   ]
  },
  {
   "cell_type": "markdown",
   "metadata": {},
   "source": [
    "Open/read in files using script from data quest, need to understand why it works..."
   ]
  },
  {
   "cell_type": "code",
   "execution_count": 1,
   "metadata": {},
   "outputs": [],
   "source": [
    "opened_file_apple = open('AppleStore.csv')\n",
    "from csv import reader\n",
    "read_file_apple = reader(opened_file_apple)\n",
    "apps_data_apple = list(read_file_apple)\n",
    "\n",
    "opened_file_google = open('googleplaystore.csv')\n",
    "from csv import reader\n",
    "read_file_google = reader(opened_file_google)\n",
    "apps_data_google = list(read_file_google)"
   ]
  },
  {
   "cell_type": "markdown",
   "metadata": {},
   "source": [
    "Run function provided by dq to explore data. The function retrives the number of rows and prints x number of lines of the data set"
   ]
  },
  {
   "cell_type": "code",
   "execution_count": 2,
   "metadata": {},
   "outputs": [],
   "source": [
    "def explore_data(dataset, start, end, rows_and_columns=False):\n",
    "    dataset_slice = dataset[start:end]    \n",
    "    for row in dataset_slice:\n",
    "        print(row)\n",
    "        print('\\n') # adds a new (empty) line after each row\n",
    "\n",
    "    if rows_and_columns:\n",
    "        print('Number of rows:', len(dataset))\n",
    "        print('Number of columns:', len(dataset[0]))\n"
   ]
  },
  {
   "cell_type": "markdown",
   "metadata": {},
   "source": [
    "execute function (explore data) \n",
    "for Apple data, prints first five rows including header, gives data frame count "
   ]
  },
  {
   "cell_type": "code",
   "execution_count": 3,
   "metadata": {},
   "outputs": [
    {
     "name": "stdout",
     "output_type": "stream",
     "text": [
      "['id', 'track_name', 'size_bytes', 'currency', 'price', 'rating_count_tot', 'rating_count_ver', 'user_rating', 'user_rating_ver', 'ver', 'cont_rating', 'prime_genre', 'sup_devices.num', 'ipadSc_urls.num', 'lang.num', 'vpp_lic']\n",
      "\n",
      "\n",
      "['284882215', 'Facebook', '389879808', 'USD', '0.0', '2974676', '212', '3.5', '3.5', '95.0', '4+', 'Social Networking', '37', '1', '29', '1']\n",
      "\n",
      "\n",
      "['389801252', 'Instagram', '113954816', 'USD', '0.0', '2161558', '1289', '4.5', '4.0', '10.23', '12+', 'Photo & Video', '37', '0', '29', '1']\n",
      "\n",
      "\n",
      "['529479190', 'Clash of Clans', '116476928', 'USD', '0.0', '2130805', '579', '4.5', '4.5', '9.24.12', '9+', 'Games', '38', '5', '18', '1']\n",
      "\n",
      "\n",
      "['420009108', 'Temple Run', '65921024', 'USD', '0.0', '1724546', '3842', '4.5', '4.0', '1.6.2', '9+', 'Games', '40', '5', '1', '1']\n",
      "\n",
      "\n",
      "Number of rows: 7198\n",
      "Number of columns: 16\n"
     ]
    }
   ],
   "source": [
    "explore_data(apps_data_apple,0,5, rows_and_columns=True)"
   ]
  },
  {
   "cell_type": "markdown",
   "metadata": {},
   "source": [
    "explores data for google data frame"
   ]
  },
  {
   "cell_type": "code",
   "execution_count": 4,
   "metadata": {},
   "outputs": [
    {
     "name": "stdout",
     "output_type": "stream",
     "text": [
      "['App', 'Category', 'Rating', 'Reviews', 'Size', 'Installs', 'Type', 'Price', 'Content Rating', 'Genres', 'Last Updated', 'Current Ver', 'Android Ver']\n",
      "\n",
      "\n",
      "['Photo Editor & Candy Camera & Grid & ScrapBook', 'ART_AND_DESIGN', '4.1', '159', '19M', '10,000+', 'Free', '0', 'Everyone', 'Art & Design', 'January 7, 2018', '1.0.0', '4.0.3 and up']\n",
      "\n",
      "\n",
      "['Coloring book moana', 'ART_AND_DESIGN', '3.9', '967', '14M', '500,000+', 'Free', '0', 'Everyone', 'Art & Design;Pretend Play', 'January 15, 2018', '2.0.0', '4.0.3 and up']\n",
      "\n",
      "\n",
      "['U Launcher Lite – FREE Live Cool Themes, Hide Apps', 'ART_AND_DESIGN', '4.7', '87510', '8.7M', '5,000,000+', 'Free', '0', 'Everyone', 'Art & Design', 'August 1, 2018', '1.2.4', '4.0.3 and up']\n",
      "\n",
      "\n",
      "['Sketch - Draw & Paint', 'ART_AND_DESIGN', '4.5', '215644', '25M', '50,000,000+', 'Free', '0', 'Teen', 'Art & Design', 'June 8, 2018', 'Varies with device', '4.2 and up']\n",
      "\n",
      "\n",
      "Number of rows: 10842\n",
      "Number of columns: 13\n"
     ]
    }
   ],
   "source": [
    "explore_data(apps_data_google,0,5, rows_and_columns=True)"
   ]
  },
  {
   "cell_type": "markdown",
   "metadata": {},
   "source": [
    "print column names for each df change rows_and_columns to False to remove df count"
   ]
  },
  {
   "cell_type": "code",
   "execution_count": 5,
   "metadata": {},
   "outputs": [
    {
     "name": "stdout",
     "output_type": "stream",
     "text": [
      "['id', 'track_name', 'size_bytes', 'currency', 'price', 'rating_count_tot', 'rating_count_ver', 'user_rating', 'user_rating_ver', 'ver', 'cont_rating', 'prime_genre', 'sup_devices.num', 'ipadSc_urls.num', 'lang.num', 'vpp_lic']\n",
      "\n",
      "\n",
      "['App', 'Category', 'Rating', 'Reviews', 'Size', 'Installs', 'Type', 'Price', 'Content Rating', 'Genres', 'Last Updated', 'Current Ver', 'Android Ver']\n",
      "\n",
      "\n"
     ]
    }
   ],
   "source": [
    "explore_data(apps_data_apple,0,1, rows_and_columns=False)\n",
    "explore_data(apps_data_google,0,1, rows_and_columns=False)"
   ]
  },
  {
   "cell_type": "markdown",
   "metadata": {},
   "source": [
    "Columns that are relevant: price, rating, user_rating, track_name for links to the data documentation please see below\n",
    "\n",
    "Apple: https://www.kaggle.com/ramamet4/app-store-apple-data-set-10k-apps\n",
    "Google:https://www.kaggle.com/lava18/google-play-store-apps"
   ]
  },
  {
   "cell_type": "code",
   "execution_count": 6,
   "metadata": {},
   "outputs": [
    {
     "name": "stdout",
     "output_type": "stream",
     "text": [
      "['Life Made WI-Fi Touchscreen Photo Frame', '1.9', '19', '3.0M', '1,000+', 'Free', '0', 'Everyone', '', 'February 11, 2018', '1.0.19', '4.0 and up']\n"
     ]
    }
   ],
   "source": [
    "missing_row = apps_data_google[10473]\n",
    "print(missing_row)"
   ]
  },
  {
   "cell_type": "markdown",
   "metadata": {},
   "source": [
    "Discusion for missing value https://www.kaggle.com/lava18/google-play-store-apps/discussion/66015"
   ]
  },
  {
   "cell_type": "code",
   "execution_count": 7,
   "metadata": {},
   "outputs": [],
   "source": [
    "del apps_data_google[10473]"
   ]
  },
  {
   "cell_type": "markdown",
   "metadata": {},
   "source": [
    "no errors in the apple data according to discusion https://www.kaggle.com/ramamet4/app-store-apple-data-set-10k-apps/discussion"
   ]
  },
  {
   "cell_type": "markdown",
   "metadata": {},
   "source": [
    "This for loop is looping through each row of the Google Apps data set and is printing the name of the app every item that is at index [0] for each row. "
   ]
  },
  {
   "cell_type": "code",
   "execution_count": 35,
   "metadata": {},
   "outputs": [],
   "source": [
    "#for apps in apps_data_google:\n",
    "    #print(apps[0])"
   ]
  },
  {
   "cell_type": "markdown",
   "metadata": {},
   "source": [
    "The data set has duplicate entries of various apps. This for loop, goes through each row of the data frame selecting the app name located in index [0]. It then saves the app name to the variable \"Name.\" The if statement then compares each row at index [0]? to the list called \"unique_apps\" if the name appears in the list the if statement then appends the apps name to the duplicate_apps list. If the apps does not appear in the unique_apps list it appends it to the unique_apps list.\n",
    "\n",
    "We then use a print statement to print the length of th duplicate_apps list, giving us the number of duplicate apps. "
   ]
  },
  {
   "cell_type": "code",
   "execution_count": 39,
   "metadata": {},
   "outputs": [
    {
     "name": "stdout",
     "output_type": "stream",
     "text": [
      "Num of Duplicate Apps:  1181\n",
      "\n",
      "\n",
      "Some the duplicates:  ['Quick PDF Scanner + OCR FREE', 'Box', 'Google My Business', 'ZOOM Cloud Meetings', 'join.me - Simple Meetings']\n",
      "Num of Duplicate Apps:  2\n",
      "\n",
      "\n",
      "Some the duplicates:  ['Mannequin Challenge', 'VR Roller Coaster']\n"
     ]
    }
   ],
   "source": [
    "duplicate_apps_google = []\n",
    "unique_apps_google = []\n",
    "for apps in apps_data_google:\n",
    "    name = apps[0]\n",
    "    if name in unique_apps_google:\n",
    "        duplicate_apps_google.append(name)\n",
    "    else:\n",
    "        unique_apps_google.append(name)\n",
    "print(\"Num of Duplicate Apps: \", len(duplicate_apps_google))\n",
    "print(\"\\n\")\n",
    "print(\"Some the duplicates: \", duplicate_apps_google[:5])\n",
    "\n",
    "\n",
    "duplicate_apps_apple = []\n",
    "unique_apps_apple = []\n",
    "for apps in apps_data_apple:\n",
    "    name = apps[1]\n",
    "    if name in unique_apps_apple:\n",
    "        duplicate_apps_apple.append(name)\n",
    "    else:\n",
    "        unique_apps_apple.append(name)\n",
    "print(\"Num of Duplicate Apps: \", len(duplicate_apps_apple))\n",
    "print(\"\\n\")\n",
    "print(\"Some the duplicates: \", duplicate_apps_apple[:5])\n",
    "\n"
   ]
  },
  {
   "cell_type": "markdown",
   "metadata": {},
   "source": [
    "Duplicates should not be removed randomly. This is a careless and messy way to remove duplicates. \n",
    "\n",
    "*Teneative* Plan for removing duplicates: Should the reason for the duplicates be that the data was taken at different times/muiltiple times we would want to seek out the most recent data. We can do this by creating a function that loops through our duplicates list, uses and if statement to keep the duplicate version(row/data point) that has the highest number of reviews, saves them to a new list duplicates_highest_reviewed.\n",
    "\n",
    "1) Create empty dictionary which will hold the apps with the highest number of reviews \n",
    "2) For loop minus the header row, converts the number of reviews for each app to a float and saves it to the variable n_reviews\n",
    "3) app names are selected using index 0 foreach row, saved to variable name\n",
    "4) loops through data... if the app name is in the reviews_max dictionary AND the apps number of reviews is less then the number of reviews compared to the idential app that is already in the reviews max dict then update the number of reviews for that entry in the reviews_max dictionary.\n",
    "5) if the there is no idential app in the reviews max dict then the app is added \n",
    "6) print the length of the reviews max dict. giving us the number apps with duplicates removed"
   ]
  },
  {
   "cell_type": "code",
   "execution_count": 48,
   "metadata": {},
   "outputs": [
    {
     "name": "stdout",
     "output_type": "stream",
     "text": [
      "This is the number of apps with duplicates removed google then apple\n",
      "9659\n",
      "7195\n"
     ]
    }
   ],
   "source": [
    "reviews_max_google = {}\n",
    "    \n",
    "for app in apps_data_google[1:]:\n",
    "    n_reviews = float(app[3])\n",
    "    name = app[0]\n",
    "    if name in reviews_max_google and reviews_max_google[name] < n_reviews:\n",
    "        reviews_max_google[name] = n_reviews \n",
    "    #.append(n_reviews)\n",
    "    \n",
    "    elif name not in reviews_max_google:\n",
    "        reviews_max_google[name] = n_reviews\n",
    "    #,n_reviews].append(name,n_reviews)\n",
    "\n",
    "print(\"This is the number of apps with duplicates removed google then apple\")\n",
    "print(len(reviews_max_google))\n",
    "\n",
    "reviews_max_apple = {}\n",
    "    \n",
    "for app in apps_data_apple[1:]:\n",
    "    n_reviews = float(app[4])\n",
    "    name = app[1]\n",
    "    if name in reviews_max_apple and reviews_max_apple[name] < n_reviews:\n",
    "        reviews_max_apple[name] = n_reviews \n",
    "    #.append(n_reviews)\n",
    "    \n",
    "    elif name not in reviews_max_apple:\n",
    "        reviews_max_apple[name] = n_reviews\n",
    "    #,n_reviews].append(name,n_reviews)\n",
    "\n",
    "print(len(reviews_max_apple))\n"
   ]
  },
  {
   "cell_type": "markdown",
   "metadata": {
    "collapsed": true
   },
   "source": [
    "remove the duplicate rows:\n",
    "\n",
    "1) create 2 empty lists one will hold the cleaned data and one will hold a list of app names that we added\n",
    "\n",
    "2) loop: if the apps # of reviews is the same as the the highest number of reviews for the duplicate and the app name has not been added to the already added list then the app is added to both lists"
   ]
  },
  {
   "cell_type": "code",
   "execution_count": 11,
   "metadata": {},
   "outputs": [],
   "source": [
    "android_clean = []\n",
    "already_added = []\n",
    "    \n",
    "for app in apps_data_google[1:]:\n",
    "    name = app[0]\n",
    "    n_reviews = float(app[3])\n",
    "    if n_reviews == reviews_max[name] and name not in already_added:\n",
    "        android_clean.append(app)\n",
    "        already_added.append(name)"
   ]
  },
  {
   "cell_type": "code",
   "execution_count": 12,
   "metadata": {},
   "outputs": [
    {
     "name": "stdout",
     "output_type": "stream",
     "text": [
      "9659\n"
     ]
    }
   ],
   "source": [
    "print(len(android_clean))"
   ]
  },
  {
   "cell_type": "markdown",
   "metadata": {},
   "source": [
    "\n",
    "REEEE WRITE IN OWN WORDS\n",
    "\n",
    "Write a function that takes in a string and returns False if there's any character in the string that doesn't belong to the set of common English characters, otherwise it returns True.\n",
    "\n",
    "Inside the function, iterate over the input string. For each iteration check whether the number associated with the character is greater than 127. When a character is greater than 127, the function should immediately return False — the app name is probably non-English since it contains a character that doesn't belong to the set of common English characters.\n",
    "If the loop finishes running without the return statement being executed, then it means no character had a corresponding number over 127 — the app name is probably English, so the functions should return True.\n",
    "Use your function to check whether these app names are detected as English or non-English:\n",
    "\n",
    "'Instagram'\n",
    "'爱奇艺PPS -《欢乐颂2》电视剧热播'\n",
    "'Docs To Go™ Free Office Suite'\n",
    "'Instachat 😜'"
   ]
  },
  {
   "cell_type": "code",
   "execution_count": 13,
   "metadata": {},
   "outputs": [
    {
     "data": {
      "text/plain": [
       "True"
      ]
     },
     "execution_count": 13,
     "metadata": {},
     "output_type": "execute_result"
    }
   ],
   "source": [
    "def english_char(string):\n",
    "    for char in string:\n",
    "        if ord(char) > 127:\n",
    "            return False; \n",
    "    return True\n",
    "english_char('Instagram')"
   ]
  },
  {
   "cell_type": "markdown",
   "metadata": {},
   "source": [
    "Change the function you created in the previous screen. If the input string has more than three characters that fall outside the ASCII range (0 - 127), then the function should return False (identify the string as non-English), otherwise it should return True."
   ]
  },
  {
   "cell_type": "code",
   "execution_count": 14,
   "metadata": {},
   "outputs": [
    {
     "data": {
      "text/plain": [
       "False"
      ]
     },
     "execution_count": 14,
     "metadata": {},
     "output_type": "execute_result"
    }
   ],
   "source": [
    "def english_char(string):\n",
    "    count = 0\n",
    "    for char in string:\n",
    "        if ord(char) > 127:\n",
    "            count += 1;\n",
    "        if count > 3:\n",
    "            return False;\n",
    "    return True\n",
    "\n",
    "english_char('爱奇艺PPS -《欢乐颂2》电视剧热播')\n"
   ]
  },
  {
   "cell_type": "markdown",
   "metadata": {},
   "source": [
    "Use the new function to filter out non-English apps from both data sets. Loop through each data set. If an app name is identified as English, append the whole row to a separate list."
   ]
  },
  {
   "cell_type": "code",
   "execution_count": 57,
   "metadata": {},
   "outputs": [
    {
     "name": "stdout",
     "output_type": "stream",
     "text": [
      "9614\n",
      "6184\n"
     ]
    }
   ],
   "source": [
    "english_app_google = []\n",
    "for app in android_clean:\n",
    "    name = app[0]\n",
    "    if english_char(name) == True:\n",
    "        english_app_google.append(app)\n",
    "print(len(english_app_google))\n",
    "\n",
    "english_app_apple = []\n",
    "for app in apps_data_apple:\n",
    "    name = app[1]\n",
    "    if english_char(name)== True:\n",
    "        english_app_apple.append(app)\n",
    "print(len(english_app_apple))"
   ]
  },
  {
   "cell_type": "code",
   "execution_count": 72,
   "metadata": {},
   "outputs": [
    {
     "name": "stdout",
     "output_type": "stream",
     "text": [
      "Free\n",
      "8863\n",
      "price\n",
      "3222\n"
     ]
    }
   ],
   "source": [
    "print(english_app_google[0][6])\n",
    "\n",
    "free_apps_google = []\n",
    "for app in english_app_google:\n",
    "    price = app[6]\n",
    "    if price == \"Free\":\n",
    "        free_apps_google.append(app)\n",
    "print(len(free_apps_google))\n",
    "\n",
    "print(english_app_apple[0][4])\n",
    "\n",
    "free_apps_apple = []\n",
    "for app in english_app_apple:\n",
    "    price = app[4]\n",
    "    if price == \"0.0\":\n",
    "        free_apps_apple.append(app)\n",
    "print(len(free_apps_apple))\n"
   ]
  },
  {
   "cell_type": "markdown",
   "metadata": {},
   "source": [
    "To maximize revenue it is a good idea to build apps for both the google play store and the apple store. It makes the most sense to test an app in one store first before having to develop it for the other platform. \n",
    "\n",
    "When building a new app we use a three step process,\n",
    "1. Build a minimal version of the app\n",
    "2. If it is popular with users we put more resources into developing it.\n",
    "3. If after six months the app is profitable we then build an iOS version and add it to the apple store. \n",
    "\n",
    "We need to find app profiles that are popular and profitable on both app markets. \n",
    "\n",
    "Below we will get a sense of what the most common genres are for each market."
   ]
  },
  {
   "cell_type": "markdown",
   "metadata": {},
   "source": [
    "Build frequency tables for a few columns of each data set."
   ]
  },
  {
   "cell_type": "code",
   "execution_count": null,
   "metadata": {},
   "outputs": [],
   "source": []
  }
 ],
 "metadata": {
  "kernelspec": {
   "display_name": "Python 3",
   "language": "python",
   "name": "python3"
  },
  "language_info": {
   "codemirror_mode": {
    "name": "ipython",
    "version": 3
   },
   "file_extension": ".py",
   "mimetype": "text/x-python",
   "name": "python",
   "nbconvert_exporter": "python",
   "pygments_lexer": "ipython3",
   "version": "3.6.9"
  }
 },
 "nbformat": 4,
 "nbformat_minor": 2
}
